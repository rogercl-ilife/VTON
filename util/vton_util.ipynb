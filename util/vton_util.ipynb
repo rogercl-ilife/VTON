{
  "nbformat": 4,
  "nbformat_minor": 0,
  "metadata": {
    "colab": {
      "provenance": [],
      "authorship_tag": "ABX9TyNvkZOuckjYS/0qywsLF1Tl",
      "include_colab_link": true
    },
    "kernelspec": {
      "name": "python3",
      "display_name": "Python 3"
    },
    "language_info": {
      "name": "python"
    }
  },
  "cells": [
    {
      "cell_type": "markdown",
      "metadata": {
        "id": "view-in-github",
        "colab_type": "text"
      },
      "source": [
        "<a href=\"https://colab.research.google.com/github/rogercl-ilife/VTON/blob/main/util/vton_util.ipynb\" target=\"_parent\"><img src=\"https://colab.research.google.com/assets/colab-badge.svg\" alt=\"Open In Colab\"/></a>"
      ]
    },
    {
      "cell_type": "code",
      "execution_count": 1,
      "metadata": {
        "colab": {
          "base_uri": "https://localhost:8080/"
        },
        "id": "sFYtYCdxsQoO",
        "outputId": "c1cb29df-a031-4a68-9237-56fbe1e1afde"
      },
      "outputs": [
        {
          "output_type": "stream",
          "name": "stdout",
          "text": [
            "Mounted at /content/gdrive\n"
          ]
        }
      ],
      "source": [
        "from google.colab import drive\n",
        "drive.mount('/content/gdrive', force_remount=True)\n"
      ]
    },
    {
      "cell_type": "markdown",
      "source": [
        "## Util"
      ],
      "metadata": {
        "id": "jrRNLwA31g_o"
      }
    },
    {
      "cell_type": "markdown",
      "source": [
        "### DensePose"
      ],
      "metadata": {
        "id": "n26nUcy0rDfS"
      }
    },
    {
      "cell_type": "code",
      "source": [
        "%cd /content/gdrive/MyDrive/V-ON/VTON/util"
      ],
      "metadata": {
        "id": "lQ38oxD5tbz3"
      },
      "execution_count": null,
      "outputs": []
    },
    {
      "cell_type": "markdown",
      "source": [
        "#### Follow the steps in https://github.com/sangyun884/HR-VITON/issues/45"
      ],
      "metadata": {
        "id": "IvSLjOcQtTke"
      }
    },
    {
      "cell_type": "code",
      "source": [
        "#(1) get repo of detectron2\n",
        "!git clone https://github.com/facebookresearch/detectron2\n",
        "\n",
        "#(2) install dependencies\n",
        "!python -m pip install -e detectron2\n",
        "\n",
        "#(3) install packages for DensePose\n",
        "%cd detectron2/projects/DensePose\n",
        "!pip install av>=8.0.3 opencv-python-headless>=4.5.3.56 scipy>=1.5.4"
      ],
      "metadata": {
        "id": "CjUlf1TyroV-"
      },
      "execution_count": null,
      "outputs": []
    },
    {
      "cell_type": "code",
      "source": [
        "#(4) Prepare your images\n",
        "!mkdir ./image_path"
      ],
      "metadata": {
        "id": "1ln_6jMwszgp"
      },
      "execution_count": 4,
      "outputs": []
    },
    {
      "cell_type": "markdown",
      "source": [
        "###### (5) For getting same input as HR-VITON, change ./densepose/vis/densepose_results.py in line 322\n",
        "\n",
        " > alpha=0.7 to 1 ,\n",
        " > inplace=True to False"
      ],
      "metadata": {
        "id": "PwbKekFHuVPl"
      }
    }
  ]
}